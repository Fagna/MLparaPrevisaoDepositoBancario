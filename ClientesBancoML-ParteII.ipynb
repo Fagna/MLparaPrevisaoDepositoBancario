{
 "cells": [
  {
   "cell_type": "markdown",
   "id": "f18c5d66-7e9d-4258-9d5b-53ee954f806e",
   "metadata": {},
   "source": [
    "# Do Modelo à Estratégia: Como Medir o Impacto Financeiro de uma Solução de Machine Learning no Setor Bancário - Parte I"
   ]
  },
  {
   "cell_type": "markdown",
   "id": "7cb24893-914d-4938-b427-ca39f8b0e842",
   "metadata": {},
   "source": [
    "## Sumário\n",
    "\n",
    "**PARTE I - Do Modelo à Estratégia: Como Medir o Impacto Financeiro de uma Solução de Machine Learning no Setor Bancário**\n",
    "\n",
    "- 1. Importando as Bibliotecas Necessárias\n",
    "- 2. Carregando os dados\n",
    "- 3. Avaliando as Variáveis\n",
    "- 4. Análise Exploratória e Visualização de Dados\n",
    "- 5. Seleção de Variáveis\n",
    "- 6. Tratamento das variáveis categóricas\n",
    "- 7. Separando as variáveis independentes da Target\n",
    "- 8. Normalização\n",
    "- 9. Modelo de Regressão Logística\n",
    "- 10. Avaliação do modelo Regressão Logística\n",
    " \n",
    "**PARTE II - Do Modelo à Estratégia: Um Caso de Sucesso na Geração de Receita com Machine Learning**\n",
    "\n",
    "- 1. Importando Bibliotecas Necessárias\n",
    "- 2. Modelagem usando Árvore de Decisão\n",
    "- 3. Modelagem usando Random Forest - RandomOverSampler\n",
    "- 4. Modelagem usando Random Forest - RandomUnderSampler\n",
    "- 5. Contribuição das Variáveis\n",
    " \n",
    "A base de dados utilizada pode ser encontrada em: [Kaggle.com](https://www.kaggle.com/datasets/thedevastator/bank-term-deposit-predictions/data)\n",
    "\n",
    "Para entender o contexto de negócio em que o código abaixo foi utilizado veja o artigo no Medium: [https://medium.com/@fagna.felix/](https://medium.com/@fagna.felix/do-modelo-%C3%A0-estrat%C3%A9gia-como-medir-o-impacto-financeiro-de-uma-solu%C3%A7%C3%A3o-de-machine-learning-no-ba80e5231085). Tempo de leitura, 8 minutos. Este é o primeiro artigo de uma sequência de três artigos.\n",
    "\n",
    "**OBSERVAÇÃO:** Esse código é continuação do notebook: [MLparaPrevisaoDepositoBancario/ClientesBancoML-ParteI](https://github.com/Fagna/MLparaPrevisaoDepositoBancario/blob/main/ClientesBancoML-ParteI.ipynb). O único acréscimo ocorre a partir de: **PARTE II - Do Modelo à Estratégia: Um Caso de Sucesso na Geração de Receita com Machine Learning** que é o título do segundo artigo da sequência de três artigos. Acesse o mesmo pelo link: [https://medium.com/@fagna.felix/artigo2](https://medium.com/@fagna.felix/do-modelo-%C3%A0-estrat%C3%A9gia-um-caso-de-sucesso-na-gera%C3%A7%C3%A3o-de-receita-com-machine-learning-parte-ii-237606db091f)\n",
    "\n",
    "\n",
    "### 1. Importando as Bibliotecas Necessárias"
   ]
  },
  {
   "cell_type": "code",
   "execution_count": 1,
   "id": "7ce0b415-54e4-4b28-8898-fa95cedf9a5c",
   "metadata": {
    "tags": []
   },
   "outputs": [],
   "source": [
    "# Bibliotecas de manipulação de dados e visualização\n",
    "import pandas as pd\n",
    "import numpy as np\n",
    "import seaborn as sns\n",
    "import matplotlib.pyplot as plt\n",
    "\n",
    "# Bibliotecas para dividir os dados e criar modelos\n",
    "from sklearn.preprocessing import LabelEncoder\n",
    "from sklearn.model_selection import train_test_split\n",
    "from sklearn.preprocessing import StandardScaler, LabelEncoder\n",
    "from sklearn.linear_model import LogisticRegression\n",
    "from sklearn.tree import DecisionTreeClassifier\n",
    "from sklearn.ensemble import RandomForestClassifier\n",
    "from sklearn.metrics import classification_report, accuracy_score, confusion_matrix\n",
    "from sklearn.metrics import accuracy_score, confusion_matrix, precision_score, recall_score, f1_score, roc_auc_score, roc_curve, classification_report\n",
    "\n",
    "# Módulo de Análise Exploratória\n",
    "import aed"
   ]
  },
  {
   "cell_type": "markdown",
   "id": "e519c847-e540-4a17-9990-ab24deec342c",
   "metadata": {},
   "source": [
    "### 2. Carregando os dados"
   ]
  },
  {
   "cell_type": "code",
   "execution_count": 2,
   "id": "c4d042fa-878e-4516-8d11-cececba8041c",
   "metadata": {
    "tags": []
   },
   "outputs": [
    {
     "data": {
      "text/html": [
       "<div>\n",
       "<style scoped>\n",
       "    .dataframe tbody tr th:only-of-type {\n",
       "        vertical-align: middle;\n",
       "    }\n",
       "\n",
       "    .dataframe tbody tr th {\n",
       "        vertical-align: top;\n",
       "    }\n",
       "\n",
       "    .dataframe thead th {\n",
       "        text-align: right;\n",
       "    }\n",
       "</style>\n",
       "<table border=\"1\" class=\"dataframe\">\n",
       "  <thead>\n",
       "    <tr style=\"text-align: right;\">\n",
       "      <th></th>\n",
       "      <th>age</th>\n",
       "      <th>job</th>\n",
       "      <th>marital</th>\n",
       "      <th>education</th>\n",
       "      <th>default</th>\n",
       "      <th>balance</th>\n",
       "      <th>housing</th>\n",
       "      <th>loan</th>\n",
       "      <th>contact</th>\n",
       "      <th>day</th>\n",
       "      <th>month</th>\n",
       "      <th>duration</th>\n",
       "      <th>campaign</th>\n",
       "      <th>pdays</th>\n",
       "      <th>previous</th>\n",
       "      <th>poutcome</th>\n",
       "      <th>y</th>\n",
       "    </tr>\n",
       "  </thead>\n",
       "  <tbody>\n",
       "    <tr>\n",
       "      <th>0</th>\n",
       "      <td>58</td>\n",
       "      <td>management</td>\n",
       "      <td>married</td>\n",
       "      <td>tertiary</td>\n",
       "      <td>no</td>\n",
       "      <td>2143</td>\n",
       "      <td>yes</td>\n",
       "      <td>no</td>\n",
       "      <td>unknown</td>\n",
       "      <td>5</td>\n",
       "      <td>may</td>\n",
       "      <td>261</td>\n",
       "      <td>1</td>\n",
       "      <td>-1</td>\n",
       "      <td>0</td>\n",
       "      <td>unknown</td>\n",
       "      <td>no</td>\n",
       "    </tr>\n",
       "    <tr>\n",
       "      <th>1</th>\n",
       "      <td>44</td>\n",
       "      <td>technician</td>\n",
       "      <td>single</td>\n",
       "      <td>secondary</td>\n",
       "      <td>no</td>\n",
       "      <td>29</td>\n",
       "      <td>yes</td>\n",
       "      <td>no</td>\n",
       "      <td>unknown</td>\n",
       "      <td>5</td>\n",
       "      <td>may</td>\n",
       "      <td>151</td>\n",
       "      <td>1</td>\n",
       "      <td>-1</td>\n",
       "      <td>0</td>\n",
       "      <td>unknown</td>\n",
       "      <td>no</td>\n",
       "    </tr>\n",
       "    <tr>\n",
       "      <th>2</th>\n",
       "      <td>33</td>\n",
       "      <td>entrepreneur</td>\n",
       "      <td>married</td>\n",
       "      <td>secondary</td>\n",
       "      <td>no</td>\n",
       "      <td>2</td>\n",
       "      <td>yes</td>\n",
       "      <td>yes</td>\n",
       "      <td>unknown</td>\n",
       "      <td>5</td>\n",
       "      <td>may</td>\n",
       "      <td>76</td>\n",
       "      <td>1</td>\n",
       "      <td>-1</td>\n",
       "      <td>0</td>\n",
       "      <td>unknown</td>\n",
       "      <td>no</td>\n",
       "    </tr>\n",
       "    <tr>\n",
       "      <th>3</th>\n",
       "      <td>47</td>\n",
       "      <td>blue-collar</td>\n",
       "      <td>married</td>\n",
       "      <td>unknown</td>\n",
       "      <td>no</td>\n",
       "      <td>1506</td>\n",
       "      <td>yes</td>\n",
       "      <td>no</td>\n",
       "      <td>unknown</td>\n",
       "      <td>5</td>\n",
       "      <td>may</td>\n",
       "      <td>92</td>\n",
       "      <td>1</td>\n",
       "      <td>-1</td>\n",
       "      <td>0</td>\n",
       "      <td>unknown</td>\n",
       "      <td>no</td>\n",
       "    </tr>\n",
       "    <tr>\n",
       "      <th>4</th>\n",
       "      <td>33</td>\n",
       "      <td>unknown</td>\n",
       "      <td>single</td>\n",
       "      <td>unknown</td>\n",
       "      <td>no</td>\n",
       "      <td>1</td>\n",
       "      <td>no</td>\n",
       "      <td>no</td>\n",
       "      <td>unknown</td>\n",
       "      <td>5</td>\n",
       "      <td>may</td>\n",
       "      <td>198</td>\n",
       "      <td>1</td>\n",
       "      <td>-1</td>\n",
       "      <td>0</td>\n",
       "      <td>unknown</td>\n",
       "      <td>no</td>\n",
       "    </tr>\n",
       "  </tbody>\n",
       "</table>\n",
       "</div>"
      ],
      "text/plain": [
       "   age           job  marital  education default  balance housing loan  \\\n",
       "0   58    management  married   tertiary      no     2143     yes   no   \n",
       "1   44    technician   single  secondary      no       29     yes   no   \n",
       "2   33  entrepreneur  married  secondary      no        2     yes  yes   \n",
       "3   47   blue-collar  married    unknown      no     1506     yes   no   \n",
       "4   33       unknown   single    unknown      no        1      no   no   \n",
       "\n",
       "   contact  day month  duration  campaign  pdays  previous poutcome   y  \n",
       "0  unknown    5   may       261         1     -1         0  unknown  no  \n",
       "1  unknown    5   may       151         1     -1         0  unknown  no  \n",
       "2  unknown    5   may        76         1     -1         0  unknown  no  \n",
       "3  unknown    5   may        92         1     -1         0  unknown  no  \n",
       "4  unknown    5   may       198         1     -1         0  unknown  no  "
      ]
     },
     "execution_count": 2,
     "metadata": {},
     "output_type": "execute_result"
    }
   ],
   "source": [
    "# Carregando o dataset dos dados de treino\n",
    "df_train = pd.read_csv(\"train.csv\")\n",
    "\n",
    "# Carregando o dataset dos dados de treino\n",
    "df_test = pd.read_csv(\"test.csv\")\n",
    "\n",
    "# Visualizando as primeiras linhas dos dados\n",
    "df_train.head()"
   ]
  },
  {
   "cell_type": "markdown",
   "id": "9608df28-c73e-4532-9fe7-425f60808cdc",
   "metadata": {},
   "source": [
    "### 3. Avaliando as Variáveis"
   ]
  },
  {
   "cell_type": "code",
   "execution_count": 3,
   "id": "967e8dfb-d515-4ba2-b3c9-37b28916163b",
   "metadata": {
    "tags": []
   },
   "outputs": [
    {
     "name": "stdout",
     "output_type": "stream",
     "text": [
      "<class 'pandas.core.frame.DataFrame'>\n",
      "RangeIndex: 45211 entries, 0 to 45210\n",
      "Data columns (total 17 columns):\n",
      " #   Column     Non-Null Count  Dtype \n",
      "---  ------     --------------  ----- \n",
      " 0   age        45211 non-null  int64 \n",
      " 1   job        45211 non-null  object\n",
      " 2   marital    45211 non-null  object\n",
      " 3   education  45211 non-null  object\n",
      " 4   default    45211 non-null  object\n",
      " 5   balance    45211 non-null  int64 \n",
      " 6   housing    45211 non-null  object\n",
      " 7   loan       45211 non-null  object\n",
      " 8   contact    45211 non-null  object\n",
      " 9   day        45211 non-null  int64 \n",
      " 10  month      45211 non-null  object\n",
      " 11  duration   45211 non-null  int64 \n",
      " 12  campaign   45211 non-null  int64 \n",
      " 13  pdays      45211 non-null  int64 \n",
      " 14  previous   45211 non-null  int64 \n",
      " 15  poutcome   45211 non-null  object\n",
      " 16  y          45211 non-null  object\n",
      "dtypes: int64(7), object(10)\n",
      "memory usage: 5.9+ MB\n"
     ]
    }
   ],
   "source": [
    "# Verificando o tipo de cada coluna\n",
    "df_train.info()"
   ]
  },
  {
   "cell_type": "code",
   "execution_count": 4,
   "id": "f61847ac-8284-42d5-884d-f53122440663",
   "metadata": {
    "tags": []
   },
   "outputs": [
    {
     "data": {
      "text/html": [
       "<div>\n",
       "<style scoped>\n",
       "    .dataframe tbody tr th:only-of-type {\n",
       "        vertical-align: middle;\n",
       "    }\n",
       "\n",
       "    .dataframe tbody tr th {\n",
       "        vertical-align: top;\n",
       "    }\n",
       "\n",
       "    .dataframe thead th {\n",
       "        text-align: right;\n",
       "    }\n",
       "</style>\n",
       "<table border=\"1\" class=\"dataframe\">\n",
       "  <thead>\n",
       "    <tr style=\"text-align: right;\">\n",
       "      <th></th>\n",
       "      <th>age</th>\n",
       "      <th>balance</th>\n",
       "      <th>day</th>\n",
       "      <th>duration</th>\n",
       "      <th>campaign</th>\n",
       "      <th>pdays</th>\n",
       "      <th>previous</th>\n",
       "    </tr>\n",
       "  </thead>\n",
       "  <tbody>\n",
       "    <tr>\n",
       "      <th>count</th>\n",
       "      <td>45211.000000</td>\n",
       "      <td>45211.000000</td>\n",
       "      <td>45211.000000</td>\n",
       "      <td>45211.000000</td>\n",
       "      <td>45211.000000</td>\n",
       "      <td>45211.000000</td>\n",
       "      <td>45211.000000</td>\n",
       "    </tr>\n",
       "    <tr>\n",
       "      <th>mean</th>\n",
       "      <td>40.936210</td>\n",
       "      <td>1362.272058</td>\n",
       "      <td>15.806419</td>\n",
       "      <td>258.163080</td>\n",
       "      <td>2.763841</td>\n",
       "      <td>40.197828</td>\n",
       "      <td>0.580323</td>\n",
       "    </tr>\n",
       "    <tr>\n",
       "      <th>std</th>\n",
       "      <td>10.618762</td>\n",
       "      <td>3044.765829</td>\n",
       "      <td>8.322476</td>\n",
       "      <td>257.527812</td>\n",
       "      <td>3.098021</td>\n",
       "      <td>100.128746</td>\n",
       "      <td>2.303441</td>\n",
       "    </tr>\n",
       "    <tr>\n",
       "      <th>min</th>\n",
       "      <td>18.000000</td>\n",
       "      <td>-8019.000000</td>\n",
       "      <td>1.000000</td>\n",
       "      <td>0.000000</td>\n",
       "      <td>1.000000</td>\n",
       "      <td>-1.000000</td>\n",
       "      <td>0.000000</td>\n",
       "    </tr>\n",
       "    <tr>\n",
       "      <th>25%</th>\n",
       "      <td>33.000000</td>\n",
       "      <td>72.000000</td>\n",
       "      <td>8.000000</td>\n",
       "      <td>103.000000</td>\n",
       "      <td>1.000000</td>\n",
       "      <td>-1.000000</td>\n",
       "      <td>0.000000</td>\n",
       "    </tr>\n",
       "    <tr>\n",
       "      <th>50%</th>\n",
       "      <td>39.000000</td>\n",
       "      <td>448.000000</td>\n",
       "      <td>16.000000</td>\n",
       "      <td>180.000000</td>\n",
       "      <td>2.000000</td>\n",
       "      <td>-1.000000</td>\n",
       "      <td>0.000000</td>\n",
       "    </tr>\n",
       "    <tr>\n",
       "      <th>75%</th>\n",
       "      <td>48.000000</td>\n",
       "      <td>1428.000000</td>\n",
       "      <td>21.000000</td>\n",
       "      <td>319.000000</td>\n",
       "      <td>3.000000</td>\n",
       "      <td>-1.000000</td>\n",
       "      <td>0.000000</td>\n",
       "    </tr>\n",
       "    <tr>\n",
       "      <th>max</th>\n",
       "      <td>95.000000</td>\n",
       "      <td>102127.000000</td>\n",
       "      <td>31.000000</td>\n",
       "      <td>4918.000000</td>\n",
       "      <td>63.000000</td>\n",
       "      <td>871.000000</td>\n",
       "      <td>275.000000</td>\n",
       "    </tr>\n",
       "  </tbody>\n",
       "</table>\n",
       "</div>"
      ],
      "text/plain": [
       "                age        balance           day      duration      campaign  \\\n",
       "count  45211.000000   45211.000000  45211.000000  45211.000000  45211.000000   \n",
       "mean      40.936210    1362.272058     15.806419    258.163080      2.763841   \n",
       "std       10.618762    3044.765829      8.322476    257.527812      3.098021   \n",
       "min       18.000000   -8019.000000      1.000000      0.000000      1.000000   \n",
       "25%       33.000000      72.000000      8.000000    103.000000      1.000000   \n",
       "50%       39.000000     448.000000     16.000000    180.000000      2.000000   \n",
       "75%       48.000000    1428.000000     21.000000    319.000000      3.000000   \n",
       "max       95.000000  102127.000000     31.000000   4918.000000     63.000000   \n",
       "\n",
       "              pdays      previous  \n",
       "count  45211.000000  45211.000000  \n",
       "mean      40.197828      0.580323  \n",
       "std      100.128746      2.303441  \n",
       "min       -1.000000      0.000000  \n",
       "25%       -1.000000      0.000000  \n",
       "50%       -1.000000      0.000000  \n",
       "75%       -1.000000      0.000000  \n",
       "max      871.000000    275.000000  "
      ]
     },
     "execution_count": 4,
     "metadata": {},
     "output_type": "execute_result"
    }
   ],
   "source": [
    "# Resumo estatístico das variáveis numéricas\n",
    "df_train.describe()"
   ]
  },
  {
   "cell_type": "code",
   "execution_count": 5,
   "id": "58a0d3e7-d547-4d14-9aa0-fa9797ab6071",
   "metadata": {
    "tags": []
   },
   "outputs": [
    {
     "name": "stdout",
     "output_type": "stream",
     "text": [
      "Valores ausentes:\n",
      " age          0\n",
      "job          0\n",
      "marital      0\n",
      "education    0\n",
      "default      0\n",
      "balance      0\n",
      "housing      0\n",
      "loan         0\n",
      "contact      0\n",
      "day          0\n",
      "month        0\n",
      "duration     0\n",
      "campaign     0\n",
      "pdays        0\n",
      "previous     0\n",
      "poutcome     0\n",
      "y            0\n",
      "dtype: int64\n"
     ]
    }
   ],
   "source": [
    "# Verificando valores ausentes\n",
    "print(\"Valores ausentes:\\n\", df_train.isnull().sum())"
   ]
  },
  {
   "cell_type": "markdown",
   "id": "1fe3028d-1781-4c85-aff5-b6ffbaf0969d",
   "metadata": {},
   "source": [
    "### 4. Análise Exploratória e Visualização de Dados"
   ]
  },
  {
   "cell_type": "code",
   "execution_count": 6,
   "id": "6ae5fd27-4995-4b79-98ac-f7afee6b86bc",
   "metadata": {
    "tags": []
   },
   "outputs": [
    {
     "data": {
      "image/png": "[encoded data removed]",
      "text/plain": [
       "<Figure size 1500x1000 with 9 Axes>"
      ]
     },
     "metadata": {},
     "output_type": "display_data"
    }
   ],
   "source": [
    "# Distribuição das variáveis numéricas\n",
    "df_train.hist(bins=15, figsize=(15, 10))\n",
    "plt.show()"
   ]
  },
  {
   "cell_type": "code",
   "execution_count": 7,
   "id": "55c90fda-0041-4620-b0e7-dd9789922424",
   "metadata": {
    "tags": []
   },
   "outputs": [
    {
     "data": {
      "image/png": "[encoded data removed]",
      "text/plain": [
       "<Figure size 1000x800 with 2 Axes>"
      ]
     },
     "metadata": {},
     "output_type": "display_data"
    }
   ],
   "source": [
    "# Mapa de calor de correlação apenas entre as variáveis númericas \n",
    "numerical_cols = df_train.select_dtypes(include=['number']).columns\n",
    "plt.figure(figsize=(10, 8))\n",
    "sns.heatmap(df_train[numerical_cols].corr(), annot=True, cmap=\"coolwarm\", fmt=\".2f\")\n",
    "plt.show()"
   ]
  },
  {
   "cell_type": "markdown",
   "id": "4463eeda-3d6f-49e7-a438-e9d6e11b362b",
   "metadata": {},
   "source": [
    "### 5. Seleção de Variáveis\n",
    "\n",
    "A seleção de variáveis para o modelo de Machine Learning foi realizada usando Information Value. Seleção feita previamente via Excel:\n",
    "\n",
    "![Tabela Information Value (IV)](IV.png)"
   ]
  },
  {
   "cell_type": "markdown",
   "id": "c18a64ef-9675-4c53-b2a2-096d234fef7f",
   "metadata": {},
   "source": [
    "Agora removemos as variáveis que não serão usadas no modelo. Neste caso, as variáveis que serão usadas no modelo são: age, job, housing, contact, month, duration, pdays, previous e poutcome. As variáveis especificadas no código abaixo serão removidas da base de dados."
   ]
  },
  {
   "cell_type": "code",
   "execution_count": 8,
   "id": "61ba7c78-b8a9-4520-b902-556c4ce72d0b",
   "metadata": {},
   "outputs": [],
   "source": [
    "# Removendo variáveis irrelevantes para o modelo pelo Information Value feita no Excel - base de treino\n",
    "df_train.drop(['marital','education','default','balance','loan','day','campaign'], axis=1, inplace = True)\n",
    "\n",
    "# Removendo variáveis irrelevantes para o modelo pelo Information Value feita no Excel - base de teste\n",
    "df_test.drop(['marital','education','default','balance','loan','day','campaign'], axis=1, inplace = True)"
   ]
  },
  {
   "cell_type": "markdown",
   "id": "129372c0-902d-4a38-a9db-10cf73ec7710",
   "metadata": {},
   "source": [
    "Agora vamos avaliar a presença de valores atípicos (outliers) nas variáveis númericas que serão modeladas"
   ]
  },
  {
   "cell_type": "code",
   "execution_count": 9,
   "id": "f0b548df-f79e-4253-a5b1-b5eaf4879a74",
   "metadata": {},
   "outputs": [
    {
     "data": {
      "image/png": "[encoded data removed]",
      "text/plain": [
       "<Figure size 1000x800 with 4 Axes>"
      ]
     },
     "metadata": {},
     "output_type": "display_data"
    }
   ],
   "source": [
    "# Variáveis numéricas\n",
    "colunas = ['age', 'duration', 'pdays', 'previous']\n",
    "\n",
    "# Criando figura com 2 linhas e 2 colunas\n",
    "fig, axs = plt.subplots(2, 2, figsize=(10, 8))\n",
    "\n",
    "# Achatando dos eixos (para facilitar o loop)\n",
    "axs = axs.flatten()\n",
    "\n",
    "# Plotando cada variável em um subplot\n",
    "for i, col in enumerate(colunas):\n",
    "    axs[i].boxplot(df_train[col])\n",
    "    axs[i].set_title(f'Boxplot de {col}')\n",
    "\n",
    "plt.tight_layout()\n",
    "plt.show()"
   ]
  },
  {
   "cell_type": "markdown",
   "id": "a913bfbe-44f5-415d-9753-f0d7bc094297",
   "metadata": {},
   "source": [
    "Parece que as observações identificadas como atípicas são característicos dos dados e por isso não devem ser eliminadas, claro que esses valores podem interferir no desempenho do modelo, mas técnicas de normalização ou padronização podem resolver esse problema."
   ]
  },
  {
   "cell_type": "markdown",
   "id": "aa5af851-af95-4014-b8df-e7e20a376b3d",
   "metadata": {},
   "source": [
    "### 6. Tratamento das variáveis categóricas"
   ]
  },
  {
   "cell_type": "code",
   "execution_count": 10,
   "id": "c5eecb00-81a4-4fb3-a269-86c681d09d4b",
   "metadata": {
    "tags": []
   },
   "outputs": [],
   "source": [
    "# Lista das colunas categóricas\n",
    "cols_cat = ['job', 'housing', 'contact', 'month', 'poutcome', 'y']\n",
    "\n",
    "# Criar um dicionário para armazenar os encoders\n",
    "encoders = {}\n",
    "\n",
    "# Aplicar LabelEncoder na base de treino\n",
    "for col in cols_cat:\n",
    "    le = LabelEncoder()\n",
    "    df_train[col] = le.fit_transform(df_train[col])\n",
    "    df_test[col] = le.transform(df_test[col])  # aplica o mesmo mapeamento do treino\n",
    "    encoders[col] = le  # salva o encoder caso queira reverter depois"
   ]
  },
  {
   "cell_type": "code",
   "execution_count": 11,
   "id": "d3e107e8-36bc-4bab-a35d-d5a528db29bc",
   "metadata": {},
   "outputs": [
    {
     "data": {
      "text/html": [
       "<div>\n",
       "<style scoped>\n",
       "    .dataframe tbody tr th:only-of-type {\n",
       "        vertical-align: middle;\n",
       "    }\n",
       "\n",
       "    .dataframe tbody tr th {\n",
       "        vertical-align: top;\n",
       "    }\n",
       "\n",
       "    .dataframe thead th {\n",
       "        text-align: right;\n",
       "    }\n",
       "</style>\n",
       "<table border=\"1\" class=\"dataframe\">\n",
       "  <thead>\n",
       "    <tr style=\"text-align: right;\">\n",
       "      <th></th>\n",
       "      <th>age</th>\n",
       "      <th>job</th>\n",
       "      <th>housing</th>\n",
       "      <th>contact</th>\n",
       "      <th>month</th>\n",
       "      <th>duration</th>\n",
       "      <th>pdays</th>\n",
       "      <th>previous</th>\n",
       "      <th>poutcome</th>\n",
       "      <th>y</th>\n",
       "    </tr>\n",
       "  </thead>\n",
       "  <tbody>\n",
       "    <tr>\n",
       "      <th>0</th>\n",
       "      <td>58</td>\n",
       "      <td>4</td>\n",
       "      <td>1</td>\n",
       "      <td>2</td>\n",
       "      <td>8</td>\n",
       "      <td>261</td>\n",
       "      <td>-1</td>\n",
       "      <td>0</td>\n",
       "      <td>3</td>\n",
       "      <td>0</td>\n",
       "    </tr>\n",
       "    <tr>\n",
       "      <th>1</th>\n",
       "      <td>44</td>\n",
       "      <td>9</td>\n",
       "      <td>1</td>\n",
       "      <td>2</td>\n",
       "      <td>8</td>\n",
       "      <td>151</td>\n",
       "      <td>-1</td>\n",
       "      <td>0</td>\n",
       "      <td>3</td>\n",
       "      <td>0</td>\n",
       "    </tr>\n",
       "    <tr>\n",
       "      <th>2</th>\n",
       "      <td>33</td>\n",
       "      <td>2</td>\n",
       "      <td>1</td>\n",
       "      <td>2</td>\n",
       "      <td>8</td>\n",
       "      <td>76</td>\n",
       "      <td>-1</td>\n",
       "      <td>0</td>\n",
       "      <td>3</td>\n",
       "      <td>0</td>\n",
       "    </tr>\n",
       "    <tr>\n",
       "      <th>3</th>\n",
       "      <td>47</td>\n",
       "      <td>1</td>\n",
       "      <td>1</td>\n",
       "      <td>2</td>\n",
       "      <td>8</td>\n",
       "      <td>92</td>\n",
       "      <td>-1</td>\n",
       "      <td>0</td>\n",
       "      <td>3</td>\n",
       "      <td>0</td>\n",
       "    </tr>\n",
       "    <tr>\n",
       "      <th>4</th>\n",
       "      <td>33</td>\n",
       "      <td>11</td>\n",
       "      <td>0</td>\n",
       "      <td>2</td>\n",
       "      <td>8</td>\n",
       "      <td>198</td>\n",
       "      <td>-1</td>\n",
       "      <td>0</td>\n",
       "      <td>3</td>\n",
       "      <td>0</td>\n",
       "    </tr>\n",
       "    <tr>\n",
       "      <th>...</th>\n",
       "      <td>...</td>\n",
       "      <td>...</td>\n",
       "      <td>...</td>\n",
       "      <td>...</td>\n",
       "      <td>...</td>\n",
       "      <td>...</td>\n",
       "      <td>...</td>\n",
       "      <td>...</td>\n",
       "      <td>...</td>\n",
       "      <td>...</td>\n",
       "    </tr>\n",
       "    <tr>\n",
       "      <th>45206</th>\n",
       "      <td>51</td>\n",
       "      <td>9</td>\n",
       "      <td>0</td>\n",
       "      <td>0</td>\n",
       "      <td>9</td>\n",
       "      <td>977</td>\n",
       "      <td>-1</td>\n",
       "      <td>0</td>\n",
       "      <td>3</td>\n",
       "      <td>1</td>\n",
       "    </tr>\n",
       "    <tr>\n",
       "      <th>45207</th>\n",
       "      <td>71</td>\n",
       "      <td>5</td>\n",
       "      <td>0</td>\n",
       "      <td>0</td>\n",
       "      <td>9</td>\n",
       "      <td>456</td>\n",
       "      <td>-1</td>\n",
       "      <td>0</td>\n",
       "      <td>3</td>\n",
       "      <td>1</td>\n",
       "    </tr>\n",
       "    <tr>\n",
       "      <th>45208</th>\n",
       "      <td>72</td>\n",
       "      <td>5</td>\n",
       "      <td>0</td>\n",
       "      <td>0</td>\n",
       "      <td>9</td>\n",
       "      <td>1127</td>\n",
       "      <td>184</td>\n",
       "      <td>3</td>\n",
       "      <td>2</td>\n",
       "      <td>1</td>\n",
       "    </tr>\n",
       "    <tr>\n",
       "      <th>45209</th>\n",
       "      <td>57</td>\n",
       "      <td>1</td>\n",
       "      <td>0</td>\n",
       "      <td>1</td>\n",
       "      <td>9</td>\n",
       "      <td>508</td>\n",
       "      <td>-1</td>\n",
       "      <td>0</td>\n",
       "      <td>3</td>\n",
       "      <td>0</td>\n",
       "    </tr>\n",
       "    <tr>\n",
       "      <th>45210</th>\n",
       "      <td>37</td>\n",
       "      <td>2</td>\n",
       "      <td>0</td>\n",
       "      <td>0</td>\n",
       "      <td>9</td>\n",
       "      <td>361</td>\n",
       "      <td>188</td>\n",
       "      <td>11</td>\n",
       "      <td>1</td>\n",
       "      <td>0</td>\n",
       "    </tr>\n",
       "  </tbody>\n",
       "</table>\n",
       "<p>45211 rows × 10 columns</p>\n",
       "</div>"
      ],
      "text/plain": [
       "       age  job  housing  contact  month  duration  pdays  previous  poutcome  \\\n",
       "0       58    4        1        2      8       261     -1         0         3   \n",
       "1       44    9        1        2      8       151     -1         0         3   \n",
       "2       33    2        1        2      8        76     -1         0         3   \n",
       "3       47    1        1        2      8        92     -1         0         3   \n",
       "4       33   11        0        2      8       198     -1         0         3   \n",
       "...    ...  ...      ...      ...    ...       ...    ...       ...       ...   \n",
       "45206   51    9        0        0      9       977     -1         0         3   \n",
       "45207   71    5        0        0      9       456     -1         0         3   \n",
       "45208   72    5        0        0      9      1127    184         3         2   \n",
       "45209   57    1        0        1      9       508     -1         0         3   \n",
       "45210   37    2        0        0      9       361    188        11         1   \n",
       "\n",
       "       y  \n",
       "0      0  \n",
       "1      0  \n",
       "2      0  \n",
       "3      0  \n",
       "4      0  \n",
       "...   ..  \n",
       "45206  1  \n",
       "45207  1  \n",
       "45208  1  \n",
       "45209  0  \n",
       "45210  0  \n",
       "\n",
       "[45211 rows x 10 columns]"
      ]
     },
     "metadata": {},
     "output_type": "display_data"
    }
   ],
   "source": [
    "display(df_train)"
   ]
  },
  {
   "cell_type": "markdown",
   "id": "e896da29-a10c-4ee7-88d4-e2dbf730efdf",
   "metadata": {},
   "source": [
    "### 7. Separando as variáveis independentes da Target"
   ]
  },
  {
   "cell_type": "code",
   "execution_count": 12,
   "id": "2a31fdc7-c3f0-4341-89ba-9a68e35b905b",
   "metadata": {
    "tags": []
   },
   "outputs": [],
   "source": [
    "# Separação para dados de treino\n",
    "X_train = df_train.drop(columns=['y'])  # Variáveis independentes\n",
    "y_train = df_train['y']  # Variável dependente\n",
    "\n",
    "# Separação para dados de teste\n",
    "X_test = df_test.drop(columns=['y'])  # Variáveis independentes\n",
    "y_test = df_test['y']  # Variável dependente"
   ]
  },
  {
   "cell_type": "markdown",
   "id": "02a9d604-7442-446c-92ae-da8eb6b2f2a7",
   "metadata": {},
   "source": [
    "### 8. Normalização"
   ]
  },
  {
   "cell_type": "code",
   "execution_count": 13,
   "id": "77a4be96-8181-4e9a-9ed5-1d2265835420",
   "metadata": {
    "tags": []
   },
   "outputs": [],
   "source": [
    "scaler = StandardScaler()\n",
    "\n",
    "# Aplicando a padronização nas variáveis numéricas\n",
    "X_train_scaled = scaler.fit_transform(X_train)\n",
    "X_test_scaled = scaler.transform(X_test)"
   ]
  },
  {
   "cell_type": "markdown",
   "id": "b4489fa4-4810-4ec3-9a09-fc123f6e29ae",
   "metadata": {},
   "source": [
    "### 9. Modelo de Regressão Logística"
   ]
  },
  {
   "cell_type": "code",
   "execution_count": 14,
   "id": "78f77554-f665-4d36-9db0-69adcd121dd5",
   "metadata": {
    "tags": []
   },
   "outputs": [],
   "source": [
    "# 1. Criando o modelo de regressão logística\n",
    "model = LogisticRegression(random_state=42)\n",
    "\n",
    "# 2. Treinando o modelo com os dados de treino\n",
    "model.fit(X_train_scaled, y_train)\n",
    "\n",
    "# 3. Fazendo previsões\n",
    "y_pred_train = model.predict(X_train_scaled)  # Previsão no treino\n",
    "y_pred_test = model.predict(X_test_scaled)    # Previsão no teste"
   ]
  },
  {
   "cell_type": "markdown",
   "id": "cdb91b62-07d3-4952-81a3-2d8225b8564e",
   "metadata": {},
   "source": [
    "### 10. Avaliação do modelo Regressão Logística"
   ]
  },
  {
   "cell_type": "code",
   "execution_count": 15,
   "id": "5188aadc-0763-40a7-8327-6bb52ed6cb1b",
   "metadata": {},
   "outputs": [
    {
     "name": "stdout",
     "output_type": "stream",
     "text": [
      "Matriz de Confusão (Treinamento):\n",
      " [[39205   717]\n",
      " [ 4197  1092]]\n",
      "Matriz de Confusão (Teste):\n",
      " [[3922   78]\n",
      " [ 417  104]]\n",
      "Acurácia (Treinamento):  0.8913096370352348\n",
      "Acurácia (Teste):  0.8905109489051095\n",
      "Relatório de Classificação (Treinamento):\n",
      "               precision    recall  f1-score   support\n",
      "\n",
      "           0       0.90      0.98      0.94     39922\n",
      "           1       0.60      0.21      0.31      5289\n",
      "\n",
      "    accuracy                           0.89     45211\n",
      "   macro avg       0.75      0.59      0.62     45211\n",
      "weighted avg       0.87      0.89      0.87     45211\n",
      "\n",
      "Relatório de Classificação (Teste):\n",
      "               precision    recall  f1-score   support\n",
      "\n",
      "           0       0.90      0.98      0.94      4000\n",
      "           1       0.57      0.20      0.30       521\n",
      "\n",
      "    accuracy                           0.89      4521\n",
      "   macro avg       0.74      0.59      0.62      4521\n",
      "weighted avg       0.87      0.89      0.87      4521\n",
      "\n"
     ]
    }
   ],
   "source": [
    "# 4. Matriz de Confusão\n",
    "print(\"Matriz de Confusão (Treinamento):\\n\", confusion_matrix(y_train, y_pred_train))\n",
    "print(\"Matriz de Confusão (Teste):\\n\", confusion_matrix(y_test, y_pred_test))\n",
    "\n",
    "# 5. Acurácia\n",
    "print(\"Acurácia (Treinamento): \", accuracy_score(y_train, y_pred_train))\n",
    "print(\"Acurácia (Teste): \", accuracy_score(y_test, y_pred_test))\n",
    "\n",
    "# 6. Relatório F1-Score (com precisão e recall incluídos)\n",
    "print(\"Relatório de Classificação (Treinamento):\\n\", classification_report(y_train, y_pred_train))\n",
    "print(\"Relatório de Classificação (Teste):\\n\", classification_report(y_test, y_pred_test))"
   ]
  },
  {
   "cell_type": "code",
   "execution_count": 16,
   "id": "3328e9ea-aa10-431d-8f77-a1f5bfffb1af",
   "metadata": {
    "tags": []
   },
   "outputs": [
    {
     "name": "stdout",
     "output_type": "stream",
     "text": [
      "AUC-ROC (Teste): 0.8448\n"
     ]
    }
   ],
   "source": [
    "# 7. AUC-ROC (precisa da probabilidade da classe positiva)\n",
    "y_pred_proba_test = model.predict_proba(X_test_scaled)[:, 1]  # Probabilidade da classe positiva\n",
    "auc_score = roc_auc_score(y_test, y_pred_proba_test)\n",
    "print(f\"AUC-ROC (Teste): {auc_score:.4f}\")"
   ]
  },
  {
   "cell_type": "code",
   "execution_count": 17,
   "id": "221d9e6f-0678-44bc-8842-43ace0286fb4",
   "metadata": {
    "tags": []
   },
   "outputs": [
    {
     "data": {
      "image/png": "[encoded data removed]",
      "text/plain": [
       "<Figure size 800x600 with 1 Axes>"
      ]
     },
     "metadata": {},
     "output_type": "display_data"
    }
   ],
   "source": [
    "# 8. Curva ROC\n",
    "fpr, tpr, thresholds = roc_curve(y_test, y_pred_proba_test)\n",
    "plt.figure(figsize=(8, 6))\n",
    "plt.plot(fpr, tpr, label=f'ROC Curve (AUC = {auc_score:.4f})', color='blue')\n",
    "plt.plot([0, 1], [0, 1], linestyle='--', color='red')  # Linha aleatória\n",
    "plt.xlabel('FPR (Taxa de Falsos Positivos)')\n",
    "plt.ylabel('TPR (Taxa de Verdadeiros Positivos)')\n",
    "plt.title('Curva ROC - Regressão Logística')\n",
    "plt.legend(loc='lower right')\n",
    "plt.grid(True)\n",
    "plt.show()"
   ]
  },
  {
   "cell_type": "markdown",
   "id": "a39bca30-48e6-44c8-9826-f05baff0524b",
   "metadata": {},
   "source": [
    "A princípio o resultado parece ótimo, mas com um impacto bem ruim para o negócio. Em artigos futuros vamos trabalhar na melhoria do modelo de dados para o négócio e ao final vamos vamos discutir porque o uso de algumas variáveis nesse modelo não fazem sentido, e podem gerar um problema de data leakage."
   ]
  },
  {
   "cell_type": "markdown",
   "id": "a14216b3-2e95-445a-8f5b-74dd4080416e",
   "metadata": {},
   "source": [
    "# Do Modelo à Estratégia: Um Caso de Sucesso na Geração de Receita com Machine Learning - Parte II\n",
    "\n",
    "A seguir o código utilizado para a segunda parte do artigo. O passo a passo seguinte foi necessário:\n",
    "\n",
    "- Utilização de técnicas de reamostragem devido o desbalanceamento dos dados\n",
    "- Uso de modelos mais robustos como o Random Forest\n",
    "- Utilização de Grid Search para ajuste de hiperparâmetros\n",
    "\n",
    "Vários testes foram realizados usando diferentes técnicas de reamostragem e várias combinações de hiperparâmetros, abaixo é apresentado os melhores resultados para modelo de Árvore de Decisão e Random Forest usando como critério o Recall obtido nos dados de teste.\n"
   ]
  },
  {
   "cell_type": "markdown",
   "id": "3f340e5d-c387-4180-8dde-c06bec9f07ed",
   "metadata": {},
   "source": [
    "### 1. Importando Bibliotecas Necessárias"
   ]
  },
  {
   "cell_type": "code",
   "execution_count": 18,
   "id": "033d8eff-14af-4cc0-9ba4-aee6f2659e9d",
   "metadata": {},
   "outputs": [],
   "source": [
    "from imblearn.under_sampling import RandomUnderSampler, TomekLinks #subamostragem  da classe majoritária \n",
    "from imblearn.over_sampling import RandomOverSampler, SMOTE # Superamostragem da classe minoritária\n",
    "from imblearn.combine import SMOTEENN, SMOTETomek # Combina as duas técnicas\n",
    "from collections import Counter\n",
    "from sklearn.model_selection import train_test_split, GridSearchCV\n",
    "from imblearn.pipeline import Pipeline as ImbPipeline"
   ]
  },
  {
   "cell_type": "markdown",
   "id": "a603408b-dc17-4001-ba17-b618975aa044",
   "metadata": {},
   "source": [
    "### 2. Modelagem usando Árvore de Decisão\n",
    "\n",
    "O resultado abaixo considera os melhores hiperparâmetros entre todas as posibilidades testadas e o melhor método de reamostragem, neste caso RandomOverSampler=1, ou seja, o número de observações da classe minoritária foi igualada ao número de observações da classe majoritária."
   ]
  },
  {
   "cell_type": "code",
   "execution_count": 19,
   "id": "78737dcb-d0ec-434c-a562-0b18ec7d6db7",
   "metadata": {},
   "outputs": [
    {
     "name": "stdout",
     "output_type": "stream",
     "text": [
      "Antes da Reamostragem: Counter({0: 39922, 1: 5289})\n",
      "Depois da Reamostragem: Counter({0: 39922, 1: 39922})\n",
      "Acurácia (Treinamento):  0.7867842292470317\n",
      "Acurácia (Teste):  0.7142225171422252\n",
      "AUC-ROC (Treino): 0.8349163226389752\n",
      "AUC-ROC (Teste): 0.8358502879078695\n",
      "Matriz de Confusão (Treinamento):\n",
      " [[27898 12024]\n",
      " [ 5000 34922]]\n",
      "Matriz de Confusão (Teste):\n",
      " [[2763 1237]\n",
      " [  55  466]]\n",
      "Relatório de Classificação (Treinamento):\n",
      "               precision    recall  f1-score   support\n",
      "\n",
      "           0       0.85      0.70      0.77     39922\n",
      "           1       0.74      0.87      0.80     39922\n",
      "\n",
      "    accuracy                           0.79     79844\n",
      "   macro avg       0.80      0.79      0.79     79844\n",
      "weighted avg       0.80      0.79      0.79     79844\n",
      "\n",
      "Relatório de Classificação (Teste):\n",
      "               precision    recall  f1-score   support\n",
      "\n",
      "           0       0.98      0.69      0.81      4000\n",
      "           1       0.27      0.89      0.42       521\n",
      "\n",
      "    accuracy                           0.71      4521\n",
      "   macro avg       0.63      0.79      0.61      4521\n",
      "weighted avg       0.90      0.71      0.77      4521\n",
      "\n"
     ]
    }
   ],
   "source": [
    "# Pipeline com hiperparâmetros já definidos (baseados em recall)\n",
    "model_tree = ImbPipeline([\n",
    "    ('over', RandomOverSampler(sampling_strategy=1.0, random_state=42)),\n",
    "    ('scaler', StandardScaler()),\n",
    "    ('model', DecisionTreeClassifier(\n",
    "        criterion='gini',\n",
    "        max_depth=3,\n",
    "        min_samples_split=2,\n",
    "        min_samples_leaf=1,\n",
    "        random_state=42\n",
    "    ))\n",
    "])\n",
    "\n",
    "# Treinamento do pipeline\n",
    "model_tree.fit(X_train, y_train)\n",
    "\n",
    "# Reamostragem manual para visualização e métricas no treino\n",
    "X_resampled, y_resampled = model_tree.named_steps['over'].fit_resample(X_train, y_train)\n",
    "\n",
    "# Previsões\n",
    "y_pred_train = model_tree.predict(X_resampled)\n",
    "y_pred_test = model_tree.predict(X_test)\n",
    "\n",
    "# Avaliação\n",
    "print(\"Antes da Reamostragem:\", Counter(y_train))\n",
    "print(\"Depois da Reamostragem:\", Counter(y_resampled))\n",
    "\n",
    "print(\"Acurácia (Treinamento): \", accuracy_score(y_resampled, y_pred_train))\n",
    "print(\"Acurácia (Teste): \", accuracy_score(y_test, y_pred_test))\n",
    "\n",
    "print(\"AUC-ROC (Treino):\", roc_auc_score(y_resampled, model_tree.predict_proba(X_resampled)[:, 1]))\n",
    "print(\"AUC-ROC (Teste):\", roc_auc_score(y_test, model_tree.predict_proba(X_test)[:, 1]))\n",
    "\n",
    "print(\"Matriz de Confusão (Treinamento):\\n\", confusion_matrix(y_resampled, y_pred_train))\n",
    "print(\"Matriz de Confusão (Teste):\\n\", confusion_matrix(y_test, y_pred_test))\n",
    "\n",
    "print(\"Relatório de Classificação (Treinamento):\\n\", classification_report(y_resampled, y_pred_train))\n",
    "print(\"Relatório de Classificação (Teste):\\n\", classification_report(y_test, y_pred_test))"
   ]
  },
  {
   "cell_type": "markdown",
   "id": "25906dd7-2389-4215-8acd-c589a545ef3c",
   "metadata": {},
   "source": [
    "### 3. Modelagem usando Random Forest - RandomOverSampler"
   ]
  },
  {
   "cell_type": "code",
   "execution_count": 20,
   "id": "01491cee-69c4-40fb-b862-5256c40db117",
   "metadata": {},
   "outputs": [
    {
     "name": "stdout",
     "output_type": "stream",
     "text": [
      "\n",
      "==> Avaliação do model_rf_over (RandomOverSampler)\n",
      "Antes: Counter({0: 39922, 1: 5289})\n",
      "Depois: Counter({0: 39922, 1: 39922})\n",
      "Acurácia (Treinamento): 0.8716497169480487\n",
      "Acurácia (Teste): 0.8352134483521345\n",
      "AUC-ROC (Treino): 0.9474589421618034\n",
      "AUC-ROC (Teste): 0.9404961612284068\n",
      "Matriz de Confusão (Treinamento):\n",
      " [[33722  6200]\n",
      " [ 4048 35874]]\n",
      "Matriz de Confusão (Teste):\n",
      " [[3316  684]\n",
      " [  61  460]]\n",
      "Relatório de Classificação (Treinamento):\n",
      "               precision    recall  f1-score   support\n",
      "\n",
      "           0       0.89      0.84      0.87     39922\n",
      "           1       0.85      0.90      0.88     39922\n",
      "\n",
      "    accuracy                           0.87     79844\n",
      "   macro avg       0.87      0.87      0.87     79844\n",
      "weighted avg       0.87      0.87      0.87     79844\n",
      "\n",
      "Relatório de Classificação (Teste):\n",
      "               precision    recall  f1-score   support\n",
      "\n",
      "           0       0.98      0.83      0.90      4000\n",
      "           1       0.40      0.88      0.55       521\n",
      "\n",
      "    accuracy                           0.84      4521\n",
      "   macro avg       0.69      0.86      0.73      4521\n",
      "weighted avg       0.92      0.84      0.86      4521\n",
      "\n"
     ]
    }
   ],
   "source": [
    "# Pipeline com oversampling e melhores hiperparâmetros\n",
    "model_rf_over = ImbPipeline([\n",
    "    ('over', RandomOverSampler(sampling_strategy=1.0, random_state=42)),\n",
    "    ('scaler', StandardScaler()),\n",
    "    ('model', RandomForestClassifier(\n",
    "        bootstrap=True,\n",
    "        max_depth=10,\n",
    "        max_features='sqrt',\n",
    "        min_samples_leaf=1,\n",
    "        min_samples_split=5,\n",
    "        n_estimators=100,\n",
    "        random_state=42,\n",
    "        n_jobs=-1\n",
    "    ))\n",
    "])\n",
    "\n",
    "# Treinamento\n",
    "model_rf_over.fit(X_train, y_train)\n",
    "\n",
    "# Reamostragem para avaliação no treino\n",
    "X_resampled_over, y_resampled_over = model_rf_over.named_steps['over'].fit_resample(X_train, y_train)\n",
    "\n",
    "# Previsões\n",
    "y_pred_train_over = model_rf_over.predict(X_resampled_over)\n",
    "y_pred_test_over = model_rf_over.predict(X_test)\n",
    "\n",
    "# Avaliação\n",
    "print(\"\\n==> Avaliação do model_rf_over (RandomOverSampler)\")\n",
    "print(\"Antes:\", Counter(y_train))\n",
    "print(\"Depois:\", Counter(y_resampled_over))\n",
    "\n",
    "print(\"Acurácia (Treinamento):\", accuracy_score(y_resampled_over, y_pred_train_over))\n",
    "print(\"Acurácia (Teste):\", accuracy_score(y_test, y_pred_test_over))\n",
    "\n",
    "print(\"AUC-ROC (Treino):\", roc_auc_score(y_resampled_over, model_rf_over.predict_proba(X_resampled_over)[:, 1]))\n",
    "print(\"AUC-ROC (Teste):\", roc_auc_score(y_test, model_rf_over.predict_proba(X_test)[:, 1]))\n",
    "\n",
    "print(\"Matriz de Confusão (Treinamento):\\n\", confusion_matrix(y_resampled_over, y_pred_train_over))\n",
    "print(\"Matriz de Confusão (Teste):\\n\", confusion_matrix(y_test, y_pred_test_over))\n",
    "\n",
    "print(\"Relatório de Classificação (Treinamento):\\n\", classification_report(y_resampled_over, y_pred_train_over))\n",
    "print(\"Relatório de Classificação (Teste):\\n\", classification_report(y_test, y_pred_test_over))\n"
   ]
  },
  {
   "cell_type": "markdown",
   "id": "466d1bb0-03cf-4641-92b3-51056a9dacb2",
   "metadata": {},
   "source": [
    "### 4. Modelagem usando Random Forest - RandomUnderSampler"
   ]
  },
  {
   "cell_type": "code",
   "execution_count": 21,
   "id": "bd1e381d-53a5-4930-842e-f9899f14dc0f",
   "metadata": {},
   "outputs": [
    {
     "name": "stdout",
     "output_type": "stream",
     "text": [
      "\n",
      "==> Avaliação do model_rf_under (RandomUnderSampler)\n",
      "Antes: Counter({0: 39922, 1: 5289})\n",
      "Depois: Counter({0: 5289, 1: 5289})\n",
      "Acurácia (Treinamento): 0.8738892040083192\n",
      "Acurácia (Teste): 0.8214996682149966\n",
      "AUC-ROC (Treino): 0.9536235177545221\n",
      "AUC-ROC (Teste): 0.9284102687140114\n",
      "Matriz de Confusão (Treinamento):\n",
      " [[4497  792]\n",
      " [ 542 4747]]\n",
      "Matriz de Confusão (Teste):\n",
      " [[3248  752]\n",
      " [  55  466]]\n",
      "Relatório de Classificação (Treinamento):\n",
      "               precision    recall  f1-score   support\n",
      "\n",
      "           0       0.89      0.85      0.87      5289\n",
      "           1       0.86      0.90      0.88      5289\n",
      "\n",
      "    accuracy                           0.87     10578\n",
      "   macro avg       0.87      0.87      0.87     10578\n",
      "weighted avg       0.87      0.87      0.87     10578\n",
      "\n",
      "Relatório de Classificação (Teste):\n",
      "               precision    recall  f1-score   support\n",
      "\n",
      "           0       0.98      0.81      0.89      4000\n",
      "           1       0.38      0.89      0.54       521\n",
      "\n",
      "    accuracy                           0.82      4521\n",
      "   macro avg       0.68      0.85      0.71      4521\n",
      "weighted avg       0.91      0.82      0.85      4521\n",
      "\n"
     ]
    }
   ],
   "source": [
    "# Pipeline com undersampling e melhores hiperparâmetros\n",
    "model_rf_under = ImbPipeline([\n",
    "    ('under', RandomUnderSampler(sampling_strategy=1.0, random_state=42)),\n",
    "    ('scaler', StandardScaler()),\n",
    "    ('model', RandomForestClassifier(\n",
    "        bootstrap=True,\n",
    "        max_depth=10,\n",
    "        max_features='sqrt',\n",
    "        min_samples_leaf=2,\n",
    "        min_samples_split=5,\n",
    "        n_estimators=200,\n",
    "        random_state=42,\n",
    "        n_jobs=-1\n",
    "    ))\n",
    "])\n",
    "\n",
    "# Treinamento\n",
    "model_rf_under.fit(X_train, y_train)\n",
    "\n",
    "# Reamostragem para avaliação no treino\n",
    "X_resampled_under, y_resampled_under = model_rf_under.named_steps['under'].fit_resample(X_train, y_train)\n",
    "\n",
    "# Previsões\n",
    "y_pred_train_under = model_rf_under.predict(X_resampled_under)\n",
    "y_pred_test_under = model_rf_under.predict(X_test)\n",
    "\n",
    "# Avaliação\n",
    "print(\"\\n==> Avaliação do model_rf_under (RandomUnderSampler)\")\n",
    "print(\"Antes:\", Counter(y_train))\n",
    "print(\"Depois:\", Counter(y_resampled_under))\n",
    "\n",
    "print(\"Acurácia (Treinamento):\", accuracy_score(y_resampled_under, y_pred_train_under))\n",
    "print(\"Acurácia (Teste):\", accuracy_score(y_test, y_pred_test_under))\n",
    "\n",
    "print(\"AUC-ROC (Treino):\", roc_auc_score(y_resampled_under, model_rf_under.predict_proba(X_resampled_under)[:, 1]))\n",
    "print(\"AUC-ROC (Teste):\", roc_auc_score(y_test, model_rf_under.predict_proba(X_test)[:, 1]))\n",
    "\n",
    "print(\"Matriz de Confusão (Treinamento):\\n\", confusion_matrix(y_resampled_under, y_pred_train_under))\n",
    "print(\"Matriz de Confusão (Teste):\\n\", confusion_matrix(y_test, y_pred_test_under))\n",
    "\n",
    "print(\"Relatório de Classificação (Treinamento):\\n\", classification_report(y_resampled_under, y_pred_train_under))\n",
    "print(\"Relatório de Classificação (Teste):\\n\", classification_report(y_test, y_pred_test_under))\n"
   ]
  },
  {
   "cell_type": "markdown",
   "id": "0b40072d-1354-4788-ac15-2ecb9372e968",
   "metadata": {},
   "source": [
    "### 5. Contribuição das Variáveis\n",
    "\n",
    "Retornando as variáveis que  foram mais importantes para o modelo escolhido. "
   ]
  },
  {
   "cell_type": "code",
   "execution_count": 24,
   "id": "b263a4ce-6b9b-4b43-bb69-0d9934ae7cb7",
   "metadata": {},
   "outputs": [
    {
     "data": {
      "text/html": [
       "<div>\n",
       "<style scoped>\n",
       "    .dataframe tbody tr th:only-of-type {\n",
       "        vertical-align: middle;\n",
       "    }\n",
       "\n",
       "    .dataframe tbody tr th {\n",
       "        vertical-align: top;\n",
       "    }\n",
       "\n",
       "    .dataframe thead th {\n",
       "        text-align: right;\n",
       "    }\n",
       "</style>\n",
       "<table border=\"1\" class=\"dataframe\">\n",
       "  <thead>\n",
       "    <tr style=\"text-align: right;\">\n",
       "      <th></th>\n",
       "      <th>Variável</th>\n",
       "      <th>Importância</th>\n",
       "    </tr>\n",
       "  </thead>\n",
       "  <tbody>\n",
       "    <tr>\n",
       "      <th>0</th>\n",
       "      <td>duration</td>\n",
       "      <td>0.529665</td>\n",
       "    </tr>\n",
       "    <tr>\n",
       "      <th>1</th>\n",
       "      <td>month</td>\n",
       "      <td>0.097519</td>\n",
       "    </tr>\n",
       "    <tr>\n",
       "      <th>2</th>\n",
       "      <td>contact</td>\n",
       "      <td>0.076343</td>\n",
       "    </tr>\n",
       "    <tr>\n",
       "      <th>3</th>\n",
       "      <td>age</td>\n",
       "      <td>0.065952</td>\n",
       "    </tr>\n",
       "    <tr>\n",
       "      <th>4</th>\n",
       "      <td>pdays</td>\n",
       "      <td>0.063777</td>\n",
       "    </tr>\n",
       "    <tr>\n",
       "      <th>5</th>\n",
       "      <td>poutcome</td>\n",
       "      <td>0.055165</td>\n",
       "    </tr>\n",
       "    <tr>\n",
       "      <th>6</th>\n",
       "      <td>housing</td>\n",
       "      <td>0.052129</td>\n",
       "    </tr>\n",
       "    <tr>\n",
       "      <th>7</th>\n",
       "      <td>previous</td>\n",
       "      <td>0.034600</td>\n",
       "    </tr>\n",
       "    <tr>\n",
       "      <th>8</th>\n",
       "      <td>job</td>\n",
       "      <td>0.024850</td>\n",
       "    </tr>\n",
       "  </tbody>\n",
       "</table>\n",
       "</div>"
      ],
      "text/plain": [
       "   Variável  Importância\n",
       "0  duration     0.529665\n",
       "1     month     0.097519\n",
       "2   contact     0.076343\n",
       "3       age     0.065952\n",
       "4     pdays     0.063777\n",
       "5  poutcome     0.055165\n",
       "6   housing     0.052129\n",
       "7  previous     0.034600\n",
       "8       job     0.024850"
      ]
     },
     "execution_count": 24,
     "metadata": {},
     "output_type": "execute_result"
    }
   ],
   "source": [
    "model = model_rf_under.named_steps['model']\n",
    "pd.DataFrame({'Variável': X_train.columns, 'Importância': model.feature_importances_}) \\\n",
    "  .sort_values('Importância', ascending=False, ignore_index=True)"
   ]
  },
  {
   "cell_type": "code",
   "execution_count": null,
   "id": "c098575f-ce48-4595-a7ac-e3c3cb127482",
   "metadata": {},
   "outputs": [],
   "source": []
  }
 ],
 "metadata": {
  "kernelspec": {
   "display_name": "Python 3 (ipykernel)",
   "language": "python",
   "name": "python3"
  },
  "language_info": {
   "codemirror_mode": {
    "name": "ipython",
    "version": 3
   },
   "file_extension": ".py",
   "mimetype": "text/x-python",
   "name": "python",
   "nbconvert_exporter": "python",
   "pygments_lexer": "ipython3",
   "version": "3.12.10"
  }
 },
 "nbformat": 4,
 "nbformat_minor": 5
}
